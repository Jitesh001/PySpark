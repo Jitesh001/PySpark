{
  "nbformat": 4,
  "nbformat_minor": 0,
  "metadata": {
    "colab": {
      "provenance": [],
      "collapsed_sections": []
    },
    "kernelspec": {
      "name": "python3",
      "display_name": "Python 3"
    },
    "language_info": {
      "name": "python"
    }
  },
  "cells": [
    {
      "cell_type": "code",
      "execution_count": 1,
      "metadata": {
        "colab": {
          "base_uri": "https://localhost:8080/"
        },
        "id": "dogDD4qY5vNl",
        "outputId": "9fe46e4b-9aff-4ed8-9a3e-b9dbcc914e20"
      },
      "outputs": [
        {
          "output_type": "stream",
          "name": "stdout",
          "text": [
            "Looking in indexes: https://pypi.org/simple, https://us-python.pkg.dev/colab-wheels/public/simple/\n",
            "Collecting pyspark\n",
            "  Downloading pyspark-3.3.0.tar.gz (281.3 MB)\n",
            "\u001b[K     |████████████████████████████████| 281.3 MB 40 kB/s \n",
            "\u001b[?25hCollecting py4j==0.10.9.5\n",
            "  Downloading py4j-0.10.9.5-py2.py3-none-any.whl (199 kB)\n",
            "\u001b[K     |████████████████████████████████| 199 kB 25.9 MB/s \n",
            "\u001b[?25hBuilding wheels for collected packages: pyspark\n",
            "  Building wheel for pyspark (setup.py) ... \u001b[?25l\u001b[?25hdone\n",
            "  Created wheel for pyspark: filename=pyspark-3.3.0-py2.py3-none-any.whl size=281764026 sha256=6302f3d59fbfd752a039c44de913a2483fcf7879bc9f5aec13a206dd1fee1985\n",
            "  Stored in directory: /root/.cache/pip/wheels/7a/8e/1b/f73a52650d2e5f337708d9f6a1750d451a7349a867f928b885\n",
            "Successfully built pyspark\n",
            "Installing collected packages: py4j, pyspark\n",
            "Successfully installed py4j-0.10.9.5 pyspark-3.3.0\n"
          ]
        }
      ],
      "source": [
        "pip install pyspark"
      ]
    },
    {
      "cell_type": "code",
      "source": [
        "#importing required libraries for Spark Dataframe\n",
        "from pyspark.sql import SparkSession\n",
        "from pyspark.sql.types import DoubleType, IntegerType\n",
        "from pyspark.sql.functions import col, lit, udf\n",
        "from pyspark.sql.functions import sum,avg,max,min,mean,count\n",
        "spark = SparkSession.builder.appName(\"Mini Project\").getOrCreate()"
      ],
      "metadata": {
        "id": "i1ql9VB251jC"
      },
      "execution_count": 3,
      "outputs": []
    },
    {
      "cell_type": "code",
      "source": [
        "#reading office data\n",
        "df = spark.read.options(header='True', inferSchema='True').\\\n",
        "     csv('/content/sample_data/OfficeDataProject.csv')\n",
        "df.show()"
      ],
      "metadata": {
        "colab": {
          "base_uri": "https://localhost:8080/"
        },
        "id": "olJR2VgW519Q",
        "outputId": "8ab1f402-ac9b-4749-c93e-94b276f9ebc6"
      },
      "execution_count": 4,
      "outputs": [
        {
          "output_type": "stream",
          "name": "stdout",
          "text": [
            "+-----------+-------------------+----------+-----+------+---+-----+\n",
            "|employee_id|      employee_name|department|state|salary|age|bonus|\n",
            "+-----------+-------------------+----------+-----+------+---+-----+\n",
            "|       1000|          Nitz Leif| Marketing|   CA|  6131| 26|  543|\n",
            "|       1001|    Melissia Dedman|   Finance|   AK|  4027| 43| 1290|\n",
            "|       1002|  Rudolph Barringer|        HR|   LA|  3122| 43| 1445|\n",
            "|       1003|        Tamra Amber|  Accounts|   AK|  5717| 47| 1291|\n",
            "|       1004|        Mullan Nitz|Purchasing|   CA|  5685| 34| 1394|\n",
            "|       1005|      Zollner Karie|  Accounts|   CA|  2843| 27| 1078|\n",
            "|       1006|Kaczorowski Zollner|     Sales|   CA|  7201| 21| 1834|\n",
            "|       1007|      Nakano Locust| Marketing|   LA|  3444| 23| 1823|\n",
            "|       1008|  Recalde Kensinger|  Accounts|   LA|  3704| 48| 1330|\n",
            "|       1009|        Imai Hallie|  Accounts|   AK|  5061| 38| 1557|\n",
            "|       1010|    Debroah Gallman|  Accounts|   NY|  9308| 35|  817|\n",
            "|       1011|   Barringer Escoto|Purchasing|   WA|  1685| 49| 1706|\n",
            "|       1012|      Soules Coogan|  Accounts|   AK|  8330| 43| 1914|\n",
            "|       1013|      Luisa Suzanne|  Accounts|   CA|  1151| 37| 1095|\n",
            "|       1014|      Marvis Cobian|Purchasing|   NY|  5061| 41| 1765|\n",
            "|       1015|   Cobian Kensinger|     Sales|   LA|  1983| 21|  632|\n",
            "|       1016|      Gilma Margret| Marketing|   CA|  2919| 45| 1762|\n",
            "|       1017| Ellingsworth Ilana|  Accounts|   WA|  9614| 26| 1964|\n",
            "|       1018| Vankirk Jacquelyne|Purchasing|   NY|  8636| 47| 1192|\n",
            "|       1019|    Zollner Juliana|        HR|   NY|  9739| 30| 1119|\n",
            "+-----------+-------------------+----------+-----+------+---+-----+\n",
            "only showing top 20 rows\n",
            "\n"
          ]
        }
      ]
    },
    {
      "cell_type": "code",
      "source": [
        "#total number of employees in company\n",
        "df.count()"
      ],
      "metadata": {
        "colab": {
          "base_uri": "https://localhost:8080/"
        },
        "id": "EidTXtfN51_a",
        "outputId": "ff5acb8a-ab27-4fa3-f311-bab5b746b7b0"
      },
      "execution_count": 5,
      "outputs": [
        {
          "output_type": "execute_result",
          "data": {
            "text/plain": [
              "1000"
            ]
          },
          "metadata": {},
          "execution_count": 5
        }
      ]
    },
    {
      "cell_type": "code",
      "source": [
        "#total number of department in company\n",
        "#1st method\n",
        "df.select(\"department\").dropDuplicates([\"department\"]).count()\n",
        "#2nd method \n",
        "df.groupBy('department').count().count()"
      ],
      "metadata": {
        "colab": {
          "base_uri": "https://localhost:8080/"
        },
        "id": "xGmaiJ2V52BS",
        "outputId": "888fe101-3704-4273-92de-639258375b53"
      },
      "execution_count": 12,
      "outputs": [
        {
          "output_type": "execute_result",
          "data": {
            "text/plain": [
              "6"
            ]
          },
          "metadata": {},
          "execution_count": 12
        }
      ]
    },
    {
      "cell_type": "code",
      "source": [
        "#department names in company \n",
        "df.select(\"department\").dropDuplicates([\"department\"]).show()"
      ],
      "metadata": {
        "colab": {
          "base_uri": "https://localhost:8080/"
        },
        "id": "8T5lLag752DR",
        "outputId": "40d48f64-9cb7-4a5c-81c8-968e731dd01a"
      },
      "execution_count": 13,
      "outputs": [
        {
          "output_type": "stream",
          "name": "stdout",
          "text": [
            "+----------+\n",
            "|department|\n",
            "+----------+\n",
            "|     Sales|\n",
            "|        HR|\n",
            "|   Finance|\n",
            "|Purchasing|\n",
            "| Marketing|\n",
            "|  Accounts|\n",
            "+----------+\n",
            "\n"
          ]
        }
      ]
    },
    {
      "cell_type": "code",
      "source": [
        "#total number of employees in each dept\n",
        "df.groupBy('department').count().show()"
      ],
      "metadata": {
        "colab": {
          "base_uri": "https://localhost:8080/"
        },
        "id": "b9SeSo_J52Fc",
        "outputId": "2eeabfa8-2c26-46a2-b387-bff4d548cc2a"
      },
      "execution_count": 14,
      "outputs": [
        {
          "output_type": "stream",
          "name": "stdout",
          "text": [
            "+----------+-----+\n",
            "|department|count|\n",
            "+----------+-----+\n",
            "|     Sales|  169|\n",
            "|        HR|  171|\n",
            "|   Finance|  162|\n",
            "|Purchasing|  166|\n",
            "| Marketing|  170|\n",
            "|  Accounts|  162|\n",
            "+----------+-----+\n",
            "\n"
          ]
        }
      ]
    },
    {
      "cell_type": "code",
      "source": [
        "#total number of employees in each state\n",
        "df.groupBy('state').count().show()"
      ],
      "metadata": {
        "colab": {
          "base_uri": "https://localhost:8080/"
        },
        "id": "dwgD2rSt52HZ",
        "outputId": "d99f9046-a5ff-46e5-fd5a-13e39fe7446f"
      },
      "execution_count": 15,
      "outputs": [
        {
          "output_type": "stream",
          "name": "stdout",
          "text": [
            "+-----+-----+\n",
            "|state|count|\n",
            "+-----+-----+\n",
            "|   LA|  205|\n",
            "|   CA|  205|\n",
            "|   WA|  208|\n",
            "|   NY|  173|\n",
            "|   AK|  209|\n",
            "+-----+-----+\n",
            "\n"
          ]
        }
      ]
    },
    {
      "cell_type": "code",
      "source": [
        "#total number of employees in each state and each dept\n",
        "df.groupBy('state','department').count().show()"
      ],
      "metadata": {
        "colab": {
          "base_uri": "https://localhost:8080/"
        },
        "id": "6h5JuWVT7Zlx",
        "outputId": "327f25ac-66b8-4939-90a9-5053ac9a355d"
      },
      "execution_count": 16,
      "outputs": [
        {
          "output_type": "stream",
          "name": "stdout",
          "text": [
            "+-----+----------+-----+\n",
            "|state|department|count|\n",
            "+-----+----------+-----+\n",
            "|   CA|     Sales|   42|\n",
            "|   CA| Marketing|   33|\n",
            "|   NY|  Accounts|   34|\n",
            "|   NY|     Sales|   27|\n",
            "|   CA|   Finance|   35|\n",
            "|   CA|  Accounts|   35|\n",
            "|   CA|Purchasing|   32|\n",
            "|   WA|        HR|   47|\n",
            "|   AK|Purchasing|   30|\n",
            "|   WA|  Accounts|   27|\n",
            "|   WA|Purchasing|   38|\n",
            "|   AK|     Sales|   38|\n",
            "|   AK|  Accounts|   37|\n",
            "|   WA| Marketing|   39|\n",
            "|   LA|        HR|   41|\n",
            "|   LA|     Sales|   35|\n",
            "|   AK|        HR|   25|\n",
            "|   LA|   Finance|   29|\n",
            "|   AK|   Finance|   37|\n",
            "|   LA|Purchasing|   45|\n",
            "+-----+----------+-----+\n",
            "only showing top 20 rows\n",
            "\n"
          ]
        }
      ]
    },
    {
      "cell_type": "code",
      "source": [
        "#minimum and maximum salaries in each dept, sort in ascending order\n",
        "df.groupBy(\"department\").agg(min(\"salary\").alias(\"min\"), max(\"salary\").alias(\"max\")).\\\n",
        "orderBy(col(\"max\").asc(), col(\"min\").asc()).show()"
      ],
      "metadata": {
        "colab": {
          "base_uri": "https://localhost:8080/"
        },
        "id": "XLAPBKPC7Zpx",
        "outputId": "19a574a0-ff56-4684-cdbe-b87a5ed3ec0b"
      },
      "execution_count": 17,
      "outputs": [
        {
          "output_type": "stream",
          "name": "stdout",
          "text": [
            "+----------+----+----+\n",
            "|department| min| max|\n",
            "+----------+----+----+\n",
            "|  Accounts|1007|9890|\n",
            "|   Finance|1006|9899|\n",
            "| Marketing|1031|9974|\n",
            "|        HR|1013|9982|\n",
            "|     Sales|1103|9982|\n",
            "|Purchasing|1105|9985|\n",
            "+----------+----+----+\n",
            "\n"
          ]
        }
      ]
    },
    {
      "cell_type": "code",
      "source": [
        "df.show(4)"
      ],
      "metadata": {
        "colab": {
          "base_uri": "https://localhost:8080/"
        },
        "id": "84U4TYJJ80sw",
        "outputId": "c5d72650-288f-4310-bb9a-b21483128faa"
      },
      "execution_count": 21,
      "outputs": [
        {
          "output_type": "stream",
          "name": "stdout",
          "text": [
            "+-----------+-----------------+----------+-----+------+---+-----+\n",
            "|employee_id|    employee_name|department|state|salary|age|bonus|\n",
            "+-----------+-----------------+----------+-----+------+---+-----+\n",
            "|       1000|        Nitz Leif| Marketing|   CA|  6131| 26|  543|\n",
            "|       1001|  Melissia Dedman|   Finance|   AK|  4027| 43| 1290|\n",
            "|       1002|Rudolph Barringer|        HR|   LA|  3122| 43| 1445|\n",
            "|       1003|      Tamra Amber|  Accounts|   AK|  5717| 47| 1291|\n",
            "+-----------+-----------------+----------+-----+------+---+-----+\n",
            "only showing top 4 rows\n",
            "\n"
          ]
        }
      ]
    },
    {
      "cell_type": "code",
      "source": [
        "# Names of employees working in NY state under Finance Dept whose Bonuses are greater\n",
        "# than avg bonuses of employees in NY State"
      ],
      "metadata": {
        "id": "-svQ7fip7Zs-"
      },
      "execution_count": 18,
      "outputs": []
    },
    {
      "cell_type": "code",
      "source": [
        "avgBonusDf = df.filter(df.state == \"NY\").groupBy(\"state\").agg(avg(\"bonus\").alias(\"avg_bonus\"))\n",
        "avgBonus = avgBonusDf.select(\"avg_bonus\").collect()[0]['avg_bonus']\n",
        "print('Average Bonus:', avgBonus)\n",
        "df.filter((df.state == \"NY\") & (df.department == \"Finance\") & (df.bonus > avgBonus)).show()"
      ],
      "metadata": {
        "colab": {
          "base_uri": "https://localhost:8080/"
        },
        "id": "bxSlhW_W7Zwp",
        "outputId": "5d16b96c-48ef-414c-f1c2-f05ede9ab12f"
      },
      "execution_count": 22,
      "outputs": [
        {
          "output_type": "stream",
          "name": "stdout",
          "text": [
            "Average Bonus: 1251.3468208092486\n",
            "+-----------+--------------------+----------+-----+------+---+-----+\n",
            "|employee_id|       employee_name|department|state|salary|age|bonus|\n",
            "+-----------+--------------------+----------+-----+------+---+-----+\n",
            "|       1035|       Vivan Sifford|   Finance|   NY|  1129| 35| 1261|\n",
            "|       1073|      Herder Gallman|   Finance|   NY|  1988| 31| 1402|\n",
            "|       1082|          Nena Rocha|   Finance|   NY|  3417| 25| 1647|\n",
            "|       1087|       Leif Lemaster|   Finance|   NY|  8642| 45| 1782|\n",
            "|       1100|Ellingsworth Meli...|   Finance|   NY|  7845| 32| 1358|\n",
            "|       1127|        Escoto Gilma|   Finance|   NY|  3426| 41| 1285|\n",
            "|       1161|     Georgeanna Laub|   Finance|   NY|  2469| 26| 1679|\n",
            "|       1175|     Durio Tenenbaum|   Finance|   NY|  2253| 42| 1684|\n",
            "|       1180|       Juliana Grigg|   Finance|   NY|  8178| 42| 1617|\n",
            "|       1215|        Tiffani Benz|   Finance|   NY|  1665| 41| 1969|\n",
            "|       1220|          Nitz Ilana|   Finance|   NY|  2443| 50| 1342|\n",
            "|       1342|   Phylicia Antonina|   Finance|   NY|  8626| 30| 1857|\n",
            "|       1414|         Durio Janey|   Finance|   NY|  2992| 46| 1733|\n",
            "|       1660|       Melissia Jere|   Finance|   NY|  9201| 21| 1533|\n",
            "|       1737|      Yukiko Kreamer|   Finance|   NY|  7396| 20| 1332|\n",
            "|       1738|      Nena Kensinger|   Finance|   NY|  8534| 41| 1610|\n",
            "|       1815|      Antonina Ilana|   Finance|   NY|  2944| 28| 1718|\n",
            "+-----------+--------------------+----------+-----+------+---+-----+\n",
            "\n"
          ]
        }
      ]
    },
    {
      "cell_type": "code",
      "source": [
        "#raise the salaries of all employees by 500 whose age is greater than 45 using udf\n",
        "\n",
        "#normal function\n",
        "def incr_salary(age, currentSalary):\n",
        "  if age > 45:\n",
        "    return currentSalary + 500\n",
        "  return currentSalary\n",
        "\n",
        "incrSalaryUDF = udf(lambda x,y : incr_salary(x,y), IntegerType())  #udf function\n",
        "\n",
        "df.withColumn(\"salary\", incrSalaryUDF(col(\"age\"), col(\"salary\"))).show()"
      ],
      "metadata": {
        "colab": {
          "base_uri": "https://localhost:8080/"
        },
        "id": "aJA7lD2S7Zz5",
        "outputId": "c62c9aa0-a1ad-4454-c4dc-1af7c7850e7c"
      },
      "execution_count": 23,
      "outputs": [
        {
          "output_type": "stream",
          "name": "stdout",
          "text": [
            "+-----------+-------------------+----------+-----+------+---+-----+\n",
            "|employee_id|      employee_name|department|state|salary|age|bonus|\n",
            "+-----------+-------------------+----------+-----+------+---+-----+\n",
            "|       1000|          Nitz Leif| Marketing|   CA|  6131| 26|  543|\n",
            "|       1001|    Melissia Dedman|   Finance|   AK|  4027| 43| 1290|\n",
            "|       1002|  Rudolph Barringer|        HR|   LA|  3122| 43| 1445|\n",
            "|       1003|        Tamra Amber|  Accounts|   AK|  6217| 47| 1291|\n",
            "|       1004|        Mullan Nitz|Purchasing|   CA|  5685| 34| 1394|\n",
            "|       1005|      Zollner Karie|  Accounts|   CA|  2843| 27| 1078|\n",
            "|       1006|Kaczorowski Zollner|     Sales|   CA|  7201| 21| 1834|\n",
            "|       1007|      Nakano Locust| Marketing|   LA|  3444| 23| 1823|\n",
            "|       1008|  Recalde Kensinger|  Accounts|   LA|  4204| 48| 1330|\n",
            "|       1009|        Imai Hallie|  Accounts|   AK|  5061| 38| 1557|\n",
            "|       1010|    Debroah Gallman|  Accounts|   NY|  9308| 35|  817|\n",
            "|       1011|   Barringer Escoto|Purchasing|   WA|  2185| 49| 1706|\n",
            "|       1012|      Soules Coogan|  Accounts|   AK|  8330| 43| 1914|\n",
            "|       1013|      Luisa Suzanne|  Accounts|   CA|  1151| 37| 1095|\n",
            "|       1014|      Marvis Cobian|Purchasing|   NY|  5061| 41| 1765|\n",
            "|       1015|   Cobian Kensinger|     Sales|   LA|  1983| 21|  632|\n",
            "|       1016|      Gilma Margret| Marketing|   CA|  2919| 45| 1762|\n",
            "|       1017| Ellingsworth Ilana|  Accounts|   WA|  9614| 26| 1964|\n",
            "|       1018| Vankirk Jacquelyne|Purchasing|   NY|  9136| 47| 1192|\n",
            "|       1019|    Zollner Juliana|        HR|   NY|  9739| 30| 1119|\n",
            "+-----------+-------------------+----------+-----+------+---+-----+\n",
            "only showing top 20 rows\n",
            "\n"
          ]
        }
      ]
    },
    {
      "cell_type": "code",
      "source": [
        "#create DF of all the employees whose age > 45 and save them in file\n",
        "df.filter(df.age > 45).write.csv(\"/content/sample_data/output_45\")"
      ],
      "metadata": {
        "id": "aMOKL9m57Z2n"
      },
      "execution_count": 24,
      "outputs": []
    },
    {
      "cell_type": "code",
      "source": [],
      "metadata": {
        "id": "kcIhxOHX52KY"
      },
      "execution_count": null,
      "outputs": []
    }
  ]
}